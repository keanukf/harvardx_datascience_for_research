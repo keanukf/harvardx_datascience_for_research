{
 "cells": [
  {
   "cell_type": "markdown",
   "metadata": {},
   "source": [
    "# Using Python for Research Homework: Week 4, Case Study 2\n",
    "\n",
    "In this case study, we will continue taking a look at patterns of flight for each of the three birds in our dataset."
   ]
  },
  {
   "cell_type": "code",
   "execution_count": 1,
   "metadata": {},
   "outputs": [
    {
     "data": {
      "text/html": [
       "<div>\n",
       "<style scoped>\n",
       "    .dataframe tbody tr th:only-of-type {\n",
       "        vertical-align: middle;\n",
       "    }\n",
       "\n",
       "    .dataframe tbody tr th {\n",
       "        vertical-align: top;\n",
       "    }\n",
       "\n",
       "    .dataframe thead th {\n",
       "        text-align: right;\n",
       "    }\n",
       "</style>\n",
       "<table border=\"1\" class=\"dataframe\">\n",
       "  <thead>\n",
       "    <tr style=\"text-align: right;\">\n",
       "      <th></th>\n",
       "      <th>altitude</th>\n",
       "      <th>date_time</th>\n",
       "      <th>device_info_serial</th>\n",
       "      <th>direction</th>\n",
       "      <th>latitude</th>\n",
       "      <th>longitude</th>\n",
       "      <th>speed_2d</th>\n",
       "      <th>bird_name</th>\n",
       "    </tr>\n",
       "  </thead>\n",
       "  <tbody>\n",
       "    <tr>\n",
       "      <th>0</th>\n",
       "      <td>71</td>\n",
       "      <td>2013-08-15 00:18:08+00</td>\n",
       "      <td>851</td>\n",
       "      <td>-150.469753</td>\n",
       "      <td>49.419860</td>\n",
       "      <td>2.120733</td>\n",
       "      <td>0.150000</td>\n",
       "      <td>Eric</td>\n",
       "    </tr>\n",
       "    <tr>\n",
       "      <th>1</th>\n",
       "      <td>68</td>\n",
       "      <td>2013-08-15 00:48:07+00</td>\n",
       "      <td>851</td>\n",
       "      <td>-136.151141</td>\n",
       "      <td>49.419880</td>\n",
       "      <td>2.120746</td>\n",
       "      <td>2.438360</td>\n",
       "      <td>Eric</td>\n",
       "    </tr>\n",
       "    <tr>\n",
       "      <th>2</th>\n",
       "      <td>68</td>\n",
       "      <td>2013-08-15 01:17:58+00</td>\n",
       "      <td>851</td>\n",
       "      <td>160.797477</td>\n",
       "      <td>49.420310</td>\n",
       "      <td>2.120885</td>\n",
       "      <td>0.596657</td>\n",
       "      <td>Eric</td>\n",
       "    </tr>\n",
       "    <tr>\n",
       "      <th>3</th>\n",
       "      <td>73</td>\n",
       "      <td>2013-08-15 01:47:51+00</td>\n",
       "      <td>851</td>\n",
       "      <td>32.769360</td>\n",
       "      <td>49.420359</td>\n",
       "      <td>2.120859</td>\n",
       "      <td>0.310161</td>\n",
       "      <td>Eric</td>\n",
       "    </tr>\n",
       "    <tr>\n",
       "      <th>4</th>\n",
       "      <td>69</td>\n",
       "      <td>2013-08-15 02:17:42+00</td>\n",
       "      <td>851</td>\n",
       "      <td>45.191230</td>\n",
       "      <td>49.420331</td>\n",
       "      <td>2.120887</td>\n",
       "      <td>0.193132</td>\n",
       "      <td>Eric</td>\n",
       "    </tr>\n",
       "  </tbody>\n",
       "</table>\n",
       "</div>"
      ],
      "text/plain": [
       "   altitude               date_time  device_info_serial   direction  \\\n",
       "0        71  2013-08-15 00:18:08+00                 851 -150.469753   \n",
       "1        68  2013-08-15 00:48:07+00                 851 -136.151141   \n",
       "2        68  2013-08-15 01:17:58+00                 851  160.797477   \n",
       "3        73  2013-08-15 01:47:51+00                 851   32.769360   \n",
       "4        69  2013-08-15 02:17:42+00                 851   45.191230   \n",
       "\n",
       "    latitude  longitude  speed_2d bird_name  \n",
       "0  49.419860   2.120733  0.150000      Eric  \n",
       "1  49.419880   2.120746  2.438360      Eric  \n",
       "2  49.420310   2.120885  0.596657      Eric  \n",
       "3  49.420359   2.120859  0.310161      Eric  \n",
       "4  49.420331   2.120887  0.193132      Eric  "
      ]
     },
     "execution_count": 1,
     "metadata": {},
     "output_type": "execute_result"
    }
   ],
   "source": [
    "# DO NOT EDIT THIS CODE\n",
    "import pandas as pd\n",
    "import numpy as np\n",
    "birddata = pd.read_csv(\"https://courses.edx.org/asset-v1:HarvardX+PH526x+2T2019+type@asset+block@bird_tracking.csv\", index_col=0)\n",
    "birddata.head()"
   ]
  },
  {
   "cell_type": "markdown",
   "metadata": {},
   "source": [
    "### Exercise 1\n",
    "\n",
    "In this case study, we will continue taking a look at patterns of flight for each of the three birds in our dataset. We will group the flight patterns by bird and date, and plot the mean altitude for these groupings.\n",
    "\n",
    "`pandas` makes it easy to perform basic operations on groups within a dataframe without needing to loop through each value in the dataframe. In this exercise, we will group the dataframe by `birdname` and then find the average `speed_2d` for each bird.\n",
    "\n",
    "#### Instructions \n",
    "- Fill in the code to find the mean altitudes of each bird using the pre-loaded `birddata` dataframe. "
   ]
  },
  {
   "cell_type": "code",
   "execution_count": 9,
   "metadata": {},
   "outputs": [
    {
     "name": "stdout",
     "output_type": "stream",
     "text": [
      "            altitude  device_info_serial  direction   latitude  longitude  \\\n",
      "bird_name                                                                   \n",
      "Eric       60.249406               851.0  -7.774162  39.055123  -4.409152   \n",
      "Nico       67.900478               864.0  -4.074570  31.084068  -8.311241   \n",
      "Sanne      29.159922               833.0  -2.150073  21.047431 -13.881717   \n",
      "\n",
      "           speed_2d  \n",
      "bird_name            \n",
      "Eric       2.300545  \n",
      "Nico       2.908726  \n",
      "Sanne      2.450434  \n",
      "\n",
      "bird_name\n",
      "Eric     60.249406\n",
      "Nico     67.900478\n",
      "Sanne    29.159922\n",
      "Name: altitude, dtype: float64\n"
     ]
    }
   ],
   "source": [
    "# First, use `groupby()` to group the data by \"bird_name\".\n",
    "grouped_birds = birddata.groupby([\"bird_name\"])\n",
    "\n",
    "# Now calculate the mean of `speed_2d` using the `mean()` function.\n",
    "mean_speeds = grouped_birds.mean()\n",
    "\n",
    "# Find the mean `altitude` for each bird.\n",
    "mean_altitudes = mean_speeds.altitude\n",
    "\n",
    "print(mean_speeds)\n",
    "print()\n",
    "print(mean_altitudes)"
   ]
  },
  {
   "cell_type": "markdown",
   "metadata": {},
   "source": [
    "### Exercise 2\n",
    "\n",
    "In this exercise, we will group the flight times by date and calculate the mean altitude within that day.\n",
    "\n",
    "#### Instructions \n",
    "- Convert `birddata.date_time` to the `pd.datetime` format, and store as `birddata[\"date\"]`.\n",
    "- Fill in the code to find the mean altitudes for each day."
   ]
  },
  {
   "cell_type": "code",
   "execution_count": 27,
   "metadata": {},
   "outputs": [
    {
     "name": "stdout",
     "output_type": "stream",
     "text": [
      "              altitude  device_info_serial  direction   latitude  longitude  \\\n",
      "date                                                                          \n",
      "2013-09-02   88.128514          849.333333   1.601744  46.774411  -0.912303   \n",
      "2013-09-03   93.975709          849.267206  -9.084976  46.818443  -0.932492   \n",
      "2013-09-04   90.717213          849.668033  -7.408748  46.905620  -0.761246   \n",
      "2013-09-05   87.264000          849.464000  -6.133524  46.642434  -0.846606   \n",
      "2013-09-06   89.020492          849.741803  -2.154093  46.288809  -0.675341   \n",
      "2013-09-07  103.412955          849.591093   4.001450  45.738829  -0.683790   \n",
      "2013-09-08   76.566265          849.405622 -27.750228  44.488874  -0.795149   \n",
      "2013-09-09   81.483471          849.805785 -14.899399  44.483991  -0.817829   \n",
      "2013-09-10   90.618852          849.741803 -14.566736  44.225785  -0.907065   \n",
      "2013-09-11   77.222672          849.663968  -8.664273  43.653263  -1.104056   \n",
      "2013-09-12   75.646091          849.609053  -5.810180  43.443141  -1.231601   \n",
      "\n",
      "            speed_2d  \n",
      "date                  \n",
      "2013-09-02  2.274152  \n",
      "2013-09-03  2.194028  \n",
      "2013-09-04  2.704118  \n",
      "2013-09-05  2.863638  \n",
      "2013-09-06  2.293748  \n",
      "2013-09-07  3.295905  \n",
      "2013-09-08  2.364869  \n",
      "2013-09-09  1.887496  \n",
      "2013-09-10  2.593079  \n",
      "2013-09-11  2.597088  \n",
      "2013-09-12  2.429374  \n"
     ]
    }
   ],
   "source": [
    "# Convert birddata.date_time to the `pd.datetime` format.\n",
    "birddata.date_time = pd.to_datetime(birddata.date_time, format=\"%Y-%m-%d %H:%M:%S\")\n",
    "\n",
    "# Create a new column of day of observation\n",
    "birddata[\"date\"] = birddata.date_time.dt.date\n",
    "\n",
    "# Use `groupby()` to group the data by date.\n",
    "grouped_bydates = birddata.groupby([\"date\"])\n",
    "\n",
    "# Find the mean `altitude` for each date.\n",
    "mean_altitudes_perday = grouped_bydates.mean()\n",
    "\n",
    "print(mean_altitudes_perday[18:29])"
   ]
  },
  {
   "cell_type": "markdown",
   "metadata": {},
   "source": [
    "### Exercise 3\n",
    "\n",
    "In this exercise, we will group the flight times by both bird and date, and calculate the mean altitude for each.\n",
    "\n",
    "#### Instructions \n",
    "- `birddata` already contains the `date` column. To find the average speed for each bird and day, create a new grouped dataframe called `grouped_birdday` that groups the data by both `bird_name` and date."
   ]
  },
  {
   "cell_type": "code",
   "execution_count": 30,
   "metadata": {},
   "outputs": [
    {
     "name": "stdout",
     "output_type": "stream",
     "text": [
      "                        altitude  device_info_serial  direction   latitude  \\\n",
      "bird_name date                                                               \n",
      "Eric      2013-08-15   74.988095               851.0  -6.835297  49.414351   \n",
      "          2013-08-16  127.773810               851.0   3.711103  49.559370   \n",
      "          2013-08-17  125.890244               851.0 -19.291321  50.002152   \n",
      "          2013-08-18  121.353659               851.0  10.908698  50.019464   \n",
      "          2013-08-19  134.928571               851.0   0.648153  50.008427   \n",
      "...                          ...                 ...        ...        ...   \n",
      "Sanne     2014-04-26   17.116667               833.0 -12.046822  51.343525   \n",
      "          2014-04-27   17.391892               833.0   1.759358  51.236504   \n",
      "          2014-04-28   58.876712               833.0 -14.140211  51.217814   \n",
      "          2014-04-29   30.530120               833.0  12.840038  51.243441   \n",
      "          2014-04-30    4.115942               833.0   7.860171  51.331608   \n",
      "\n",
      "                      longitude  speed_2d  \n",
      "bird_name date                             \n",
      "Eric      2013-08-15   2.206514  2.121517  \n",
      "          2013-08-16   2.236405  2.618113  \n",
      "          2013-08-17   2.259934  1.765809  \n",
      "          2013-08-18   2.263452  2.951171  \n",
      "          2013-08-19   2.215777  2.435545  \n",
      "...                         ...       ...  \n",
      "Sanne     2014-04-26   3.177892  1.056218  \n",
      "          2014-04-27   3.229165  2.439322  \n",
      "          2014-04-28   3.234447  3.344398  \n",
      "          2014-04-29   3.228279  2.220966  \n",
      "          2014-04-30   3.195563  1.832762  \n",
      "\n",
      "[770 rows x 6 columns]\n"
     ]
    }
   ],
   "source": [
    "# Use `groupby()` to group the data by bird and date.\n",
    "grouped_birdday = birddata.groupby([\"bird_name\",\"date\"])\n",
    "\n",
    "# Find the mean `altitude` for each bird and date.\n",
    "mean_altitudes_perday = grouped_birdday.mean()\n",
    "\n",
    "print(mean_altitudes_perday)"
   ]
  },
  {
   "cell_type": "markdown",
   "metadata": {},
   "source": [
    "### Exercise 4\n",
    "\n",
    "Great! Now find the average speed for each bird and day.\n",
    "\n",
    "#### Instructions \n",
    "\n",
    "- Store these are three `pandas` `Series` objects, one for each bird.\n",
    "- Use the plotting code provided to plot the average speeds for each bird."
   ]
  },
  {
   "cell_type": "code",
   "execution_count": 32,
   "metadata": {},
   "outputs": [
    {
     "data": {
      "image/png": "[encoded data removed]",
      "text/plain": [
       "<Figure size 432x288 with 1 Axes>"
      ]
     },
     "metadata": {
      "needs_background": "light"
     },
     "output_type": "display_data"
    }
   ],
   "source": [
    "import matplotlib.pyplot as plt\n",
    "\n",
    "eric_daily_speed  = birddata[birddata['bird_name'] == \"Eric\"].speed_2d # Enter your code here.\n",
    "sanne_daily_speed = birddata[birddata['bird_name'] == \"Sanne\"].speed_2d # Enter your code here.\n",
    "nico_daily_speed  = birddata[birddata['bird_name'] == \"Nico\"].speed_2d # Enter your code here.\n",
    "\n",
    "eric_daily_speed.plot(label=\"Eric\")\n",
    "sanne_daily_speed.plot(label=\"Sanne\")\n",
    "nico_daily_speed.plot(label=\"Nico\")\n",
    "plt.legend(loc=\"upper left\")\n",
    "plt.show()"
   ]
  },
  {
   "cell_type": "code",
   "execution_count": null,
   "metadata": {},
   "outputs": [],
   "source": []
  }
 ],
 "metadata": {
  "kernelspec": {
   "display_name": "Python 3",
   "language": "python",
   "name": "python3"
  },
  "language_info": {
   "codemirror_mode": {
    "name": "ipython",
    "version": 3
   },
   "file_extension": ".py",
   "mimetype": "text/x-python",
   "name": "python",
   "nbconvert_exporter": "python",
   "pygments_lexer": "ipython3",
   "version": "3.7.1"
  }
 },
 "nbformat": 4,
 "nbformat_minor": 2
}
